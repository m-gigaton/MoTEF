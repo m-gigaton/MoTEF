{
 "cells": [
  {
   "cell_type": "code",
   "execution_count": null,
   "metadata": {
    "tags": []
   },
   "outputs": [],
   "source": [
    "import pickle, os, time\n",
    "from itertools import product\n",
    "\n",
    "import numpy as np\n",
    "import matplotlib.pyplot as plt\n",
    "\n",
    "from nda import log\n",
    "from nda.problems import *\n",
    "from nda.optimizers import *\n",
    "from nda.optimizers.utils import generate_mixing_matrix\n",
    "from nda.experiment_utils import run_exp\n",
    "\n",
    "from BEER import BEER\n",
    "from MoTEF import MoTEF"
   ]
  },
  {
   "cell_type": "code",
   "execution_count": null,
   "metadata": {
    "tags": []
   },
   "outputs": [],
   "source": [
    "def get_bits_per_round_per_agent(config, dim):\n",
    "    if 'compressor_type' in config:\n",
    "        if config['compressor_type'] == 'random':\n",
    "            return config['compressor_param'] * 64\n",
    "        elif config['compressor_type'] == 'top':\n",
    "            return config['compressor_param'] * 64\n",
    "        elif config['compressor_type'] == 'gsgd':\n",
    "            return config['compressor_param'] * dim\n",
    "    return dim * 64"
   ]
  },
  {
   "cell_type": "code",
   "execution_count": null,
   "metadata": {
    "tags": []
   },
   "outputs": [],
   "source": [
    "def plot_exp(results, name, logx=False, logy=False, figsize=None, dpi=None, save=False, plot_norm=False, plot_bits=True, legends=None):\n",
    "\n",
    "    max_bits = min([_[1].bits.iloc[-1] for _ in results]) * 1.1\n",
    "    max_iters = min([_[1].t.iloc[-1] for _ in results])\n",
    "\n",
    "    if plot_bits:\n",
    "        fig, axs = plt.subplots(1, 4, figsize=figsize, dpi=dpi)\n",
    "    else:\n",
    "        fig, axs = plt.subplots(1, 2, figsize=figsize, dpi=dpi)\n",
    "\n",
    "    line_styles = [color + style for style in ['-', '--', ':'] for color in ['k', 'r', 'g', 'b', 'c', 'm', 'y']]\n",
    "\n",
    "    for i in range(len(results)):\n",
    "\n",
    "        data = results[i][1]\n",
    "        style = line_styles[i]\n",
    "\n",
    "        def _plot_semilog(index, x, y, n, xlabel='', ylabel=''):\n",
    "            ax = axs[index]\n",
    "            mask = data[x].values <= n\n",
    "            ax.semilogy(\n",
    "                data[x].values[mask],\n",
    "                data[y].values[mask],\n",
    "                style\n",
    "            )\n",
    "            ax.set(xlabel=xlabel, ylabel=ylabel)\n",
    "            if logy:\n",
    "                ax.set_yscale('log')\n",
    "            if logx:\n",
    "                ax.set_xscale('log')\n",
    "\n",
    "        def _plot(index, x, y, n, xlabel='', ylabel=''):\n",
    "            ax = axs[index]\n",
    "            mask = data[x].values <= n\n",
    "            ax.semilogy(\n",
    "                data[x].values[mask],\n",
    "                data[y].values[mask],\n",
    "                style\n",
    "            )\n",
    "            ax.set(xlabel=xlabel, ylabel=ylabel)\n",
    "            if logy:\n",
    "                ax.set_yscale('log')\n",
    "            if logx:\n",
    "                ax.set_xscale('log')\n",
    "\n",
    "        if not plot_norm:\n",
    "            _plot_semilog(0, 't', 'f', max_iters, xlabel='Iterations', ylabel='Training loss')\n",
    "            if plot_bits:\n",
    "                _plot_semilog(2, 'bits', 'f', max_bits, xlabel='Bits communicated', ylabel='Training loss')\n",
    "        else:\n",
    "            _plot_semilog(0, 't', 'grad_norm', max_iters, xlabel='Iterations', ylabel='Training gradient norm')\n",
    "            if plot_bits:\n",
    "                _plot_semilog(2, 'bits', 'grad_norm', max_bits, xlabel='Bits communicated', ylabel='Training gradient norm')\n",
    "\n",
    "        _plot(1, 't', 'test_accuracy', max_iters, xlabel='Iterations', ylabel='Testing accuracy')\n",
    "        if plot_bits:\n",
    "            _plot(3, 'bits', 'test_accuracy', max_bits, xlabel='Bits communicated', ylabel='Testing accuracy')\n",
    "\n",
    "    if legends is None:\n",
    "        plt.legend([_[0] for _ in results])\n",
    "    else:\n",
    "        plt.legend(legends)\n",
    "\n",
    "    return fig"
   ]
  },
  {
   "cell_type": "code",
   "execution_count": null,
   "metadata": {
    "tags": []
   },
   "outputs": [],
   "source": [
    "def save_exp(results, configs, name, **kwargs):\n",
    "\n",
    "    for res, config in zip(results, configs):\n",
    "        data = res[1]\n",
    "        data['t'] = data['t'].astype(int)\n",
    "        data['n_grads'] = data['n_grads'].astype(int)\n",
    "        data['bits'] = get_bits_per_round_per_agent(config, p.dim) * p.n_agent * data.comm_rounds\n",
    "\n",
    "    kwargs['results'] = results\n",
    "    with open(f\"data/{name}.pkl\", 'wb') as f:\n",
    "        pickle.dump(kwargs, f)"
   ]
  },
  {
   "cell_type": "markdown",
   "metadata": {},
   "source": [
    "# Nonconvex logistic regression on unshuffled a9a dataset"
   ]
  },
  {
   "cell_type": "markdown",
   "metadata": {},
   "source": [
    "## Optimization algorithms"
   ]
  },
  {
   "cell_type": "code",
   "execution_count": null,
   "metadata": {
    "tags": []
   },
   "outputs": [],
   "source": [
    "np.random.seed(0)"
   ]
  },
  {
   "cell_type": "code",
   "execution_count": null,
   "metadata": {
    "scrolled": true,
    "tags": []
   },
   "outputs": [],
   "source": [
    "n_agent = 100\n",
    "dataset = 'a9a'\n",
    "graph_type = 'cycle'\n",
    "\n",
    "\n",
    "p = LogisticRegression(n_agent=n_agent, graph_type=graph_type, alpha=0.05, dataset=dataset, sort=True)\n",
    "\n",
    "m = p.m\n",
    "dim = p.dim\n",
    "\n",
    "x_0 = np.random.rand(dim, n_agent)\n",
    "W, alpha = generate_mixing_matrix(p)"
   ]
  },
  {
   "cell_type": "markdown",
   "metadata": {},
   "source": [
    "### Fine-tunining of MoTEF"
   ]
  },
  {
   "cell_type": "code",
   "execution_count": null,
   "metadata": {
    "tags": []
   },
   "outputs": [],
   "source": [
    "name = f'MoTEF_logistic_regression_nonconvex_{dataset}_unshuffled_algorithms_{graph_type}'"
   ]
  },
  {
   "cell_type": "code",
   "execution_count": null,
   "metadata": {
    "scrolled": true
   },
   "outputs": [],
   "source": [
    "n_iters = 6000\n",
    "batch_size = 5\n",
    "\n",
    "extra_metrics = ['test_accuracy', 'grad_norm']\n",
    "\n",
    "MoTEF_configs = []\n",
    "for eta in [0.001, 0.01, 0.05]:\n",
    "    for gamma in [0.1, 0.2, 0.5, 0.9]:\n",
    "        for lmbd in [0.005, 0.01, 0.05, 0.1]:\n",
    "            MoTEF_configs.append({'eta': eta, 'compressor_param': 5, 'gamma': gamma, 'lmbd': lmbd, 'compressor_type': 'gsgd'})\n",
    "\n",
    "\n",
    "\n",
    "for _ in MoTEF_configs:\n",
    "    _['extra_metrics'] = extra_metrics\n",
    "\n",
    "configs = MoTEF_configs\n",
    "exps = [MoTEF(p, n_iters=n_iters, batch_size=batch_size, x_0=x_0, W=W, **config) for config in MoTEF_configs] \\\n",
    "\n",
    "begin = time.time()\n",
    "res_MoTEF = run_exp(exps, max_iter=n_iters, name=name, n_gpus=4, plot=False)\n",
    "end = time.time()\n",
    "log.info('Total %.2fs', end - begin)\n",
    "\n",
    "results = save_exp(res_MoTEF, configs, name, p=p, x_0=x_0, W=W)"
   ]
  },
  {
   "cell_type": "markdown",
   "metadata": {},
   "source": [
    "### Fine-tuning of BEER"
   ]
  },
  {
   "cell_type": "code",
   "execution_count": null,
   "metadata": {},
   "outputs": [],
   "source": [
    "name = f'BEER_logistic_regression_nonconvex_{dataset}_unshuffled_algorithms_path'"
   ]
  },
  {
   "cell_type": "code",
   "execution_count": null,
   "metadata": {
    "scrolled": true
   },
   "outputs": [],
   "source": [
    "extra_metrics = ['test_accuracy', 'grad_norm']\n",
    "\n",
    "BEER_configs = []\n",
    "for eta in [0.001, 0.01, 0.05]:\n",
    "    for gamma in [0.1, 0.2, 0.5, 0.9]:\n",
    "            BEER_configs.append({'eta': eta, 'compressor_param': 5, 'gamma': gamma,'compressor_type': 'gsgd'})\n",
    "\n",
    "\n",
    "\n",
    "for _ in BEER_configs:\n",
    "    _['extra_metrics'] = extra_metrics\n",
    "\n",
    "configs = BEER_configs\n",
    "exps = [BEER(p, n_iters=n_iters, batch_size=batch_size, x_0=x_0, W=W, **config) for config in BEER_configs] \n",
    "\n",
    "begin = time.time()\n",
    "res_BEER = run_exp(exps, max_iter=n_iters, name=name, n_gpus=4, plot=False)\n",
    "end = time.time()\n",
    "log.info('Total %.2fs', end - begin)\n",
    "\n",
    "\n",
    "results = save_exp(res_BEER, configs, name, p=p, x_0=x_0, W=W)"
   ]
  },
  {
   "cell_type": "markdown",
   "metadata": {},
   "source": [
    "### MoTEF against other methods"
   ]
  },
  {
   "cell_type": "code",
   "execution_count": null,
   "metadata": {
    "tags": []
   },
   "outputs": [],
   "source": [
    "n_agent = 100\n",
    "n_iters = 6000\n",
    "batch_size = 5\n",
    "\n",
    "eta = 0.1\n",
    "gamma = 0.9\n",
    "lmbd = 0.001\n",
    "\n",
    "extra_metrics = ['test_accuracy', 'grad_norm']\n",
    "\n",
    "MoTEF_configs = [\n",
    "        {'compressor_param': 5, 'eta': eta, 'gamma': gamma, 'lmbd': lmbd, 'compressor_type': 'gsgd'},\n",
    "]\n",
    "\n",
    "BEER_configs = [\n",
    "        {'compressor_param': 5, 'eta':eta, 'gamma': gamma, 'compressor_type': 'gsgd'},\n",
    "]\n",
    "\n",
    "CHOCO_SGD_configs = [\n",
    "        {'eta': eta, 'compressor_param': 5, 'gamma': gamma, 'compressor_type': 'gsgd'},\n",
    "]\n",
    "\n",
    "\n",
    "for _ in CHOCO_SGD_configs + BEER_configs + MoTEF_configs:\n",
    "    _['extra_metrics'] = extra_metrics\n",
    "\n",
    "baseline_exps = [\n",
    "        DSGD(p, eta=0.01, n_iters=n_iters, batch_size=batch_size, x_0=x_0, W=W, extra_metrics=extra_metrics),\n",
    "        D2(p, eta=0.01, n_iters=n_iters, batch_size=batch_size, x_0=x_0, W=W, extra_metrics=extra_metrics),\n",
    "    ]\n",
    "\n",
    "configs = BEER_configs + MoTEF_configs + CHOCO_SGD_configs + len(baseline_exps) * [{}]\n",
    "exps = [BEER(p, n_iters=n_iters, batch_size=batch_size, x_0=x_0, W=W, **config) for config in BEER_configs] \\\n",
    "        + [MoTEF(p, n_iters=n_iters, batch_size=batch_size, x_0=x_0, W=W, **config) for config in MoTEF_configs] \\\n",
    "        + [CHOCO_SGD(p, n_iters=int(n_iters * 2), batch_size=batch_size, x_0=x_0, W=W, **config) for config in CHOCO_SGD_configs] \\\n",
    "        + baseline_exps\n",
    "\n",
    "begin = time.time()\n",
    "res = run_exp(exps, max_iter=n_iters, name=name, n_gpus=4, plot=False)\n",
    "end = time.time()\n",
    "log.info('Total %.2fs', end - begin)\n",
    "\n",
    "\n",
    "results = save_exp(res, configs, name, p=p, x_0=x_0, W=W)"
   ]
  },
  {
   "cell_type": "code",
   "execution_count": null,
   "metadata": {},
   "outputs": [],
   "source": [
    "name = f'MoTEF_BEER_CHOCO_DCGD_logistic_regression_nonconvex_{dataset}_unshuffled_algorithms_path'"
   ]
  },
  {
   "cell_type": "code",
   "execution_count": null,
   "metadata": {
    "tags": []
   },
   "outputs": [],
   "source": [
    "_ = plot_exp(res, name, plot_norm=True, figsize=(16, 4))"
   ]
  },
  {
   "cell_type": "markdown",
   "metadata": {},
   "source": [
    "## Network topologies"
   ]
  },
  {
   "cell_type": "code",
   "execution_count": null,
   "metadata": {},
   "outputs": [],
   "source": [
    "np.random.seed(0)"
   ]
  },
  {
   "cell_type": "code",
   "execution_count": null,
   "metadata": {
    "scrolled": true,
    "tags": []
   },
   "outputs": [],
   "source": [
    "n_agent = 40\n",
    "p = LogisticRegression(n_agent=n_agent, graph_type=graph_type, alpha=0.05, dataset=dataset, sort=True)\n",
    "\n",
    "m = p.m\n",
    "dim = p.dim\n",
    "\n",
    "x_0 = np.random.rand(dim, n_agent)\n",
    "\n",
    "log.info(f'n_agent = {n_agent}, m = {m}, dim = {dim}')"
   ]
  },
  {
   "cell_type": "code",
   "execution_count": null,
   "metadata": {
    "tags": []
   },
   "outputs": [],
   "source": [
    "name = f'logistic_regression_nonconvex_{dataset}_unshuffled_BEERM_topologies'"
   ]
  },
  {
   "cell_type": "code",
   "execution_count": null,
   "metadata": {
    "tags": []
   },
   "outputs": [],
   "source": [
    "p.generate_graph('cycle')\n",
    "W_ring, alpha_ring = generate_mixing_matrix(p)\n",
    "log.info(f'Ring graph alpha = {alpha_ring}')\n",
    "\n",
    "p.generate_graph('star')\n",
    "W_star, alpha_star = generate_mixing_matrix(p)\n",
    "log.info(f'Star graph alpha = {alpha_star}')\n",
    "\n",
    "p.generate_graph('grid', (8, 5))\n",
    "W_grid, alpha_grid = generate_mixing_matrix(p)\n",
    "log.info(f'Grid graph alpha = {alpha_grid}')\n",
    "\n",
    "p.generate_graph('er', 0.2)\n",
    "W_er_1, alpha_er_1 = generate_mixing_matrix(p)\n",
    "log.info(f'E-R graph alpha 1 = {alpha_er_1}')\n",
    "\n",
    "p.generate_graph('er', 0.5)\n",
    "W_er_2, alpha_er_2 = generate_mixing_matrix(p)\n",
    "log.info(f'E-R graph alpha 2 = {alpha_er_2}')"
   ]
  },
  {
   "cell_type": "code",
   "execution_count": null,
   "metadata": {
    "scrolled": true,
    "tags": []
   },
   "outputs": [],
   "source": [
    "n_iters = 6000\n",
    "batch_size = 100\n",
    "\n",
    "\n",
    "extra_metrics = ['test_accuracy', 'grad_norm']\n",
    "\n",
    "configs = [\n",
    "        {'eta': 0.05, 'compressor_param': 5, 'gamma': 0.5, 'lmbd':0.01, 'compressor_type': 'gsgd', 'W': W_ring},\n",
    "    \n",
    "        {'eta': 0.05, 'compressor_param': 5, 'gamma': 0.5, 'lmbd':0.01, 'compressor_type': 'gsgd', 'W': W_star},\n",
    "        {'eta': 0.05, 'compressor_param': 5, 'gamma': 0.5, 'lmbd':0.01, 'compressor_type': 'gsgd', 'W': W_grid},\n",
    "\n",
    "        {'eta': 0.05, 'compressor_param': 5, 'gamma': 0.5, 'lmbd':0.01, 'compressor_type': 'gsgd', 'W': W_er_1},\n",
    "        {'eta': 0.05, 'compressor_param': 5, 'gamma': 0.5, 'lmbd':0.01, 'compressor_type': 'gsgd', 'W': W_er_2},\n",
    "]\n",
    "\n",
    "exps = [BEER_Momentum(p, n_iters=n_iters, batch_size=batch_size, x_0=x_0, early_stopping=False, extra_metrics=extra_metrics, **config) for config in configs]\n",
    "\n",
    "begin = time.time()\n",
    "\n",
    "name = f'logistic_regression_nonconvex_{dataset}_unshuffled_MoTEF_topologies'\n",
    "res_BEERM_topology = run_exp(exps, max_iter=n_iters, name=name, n_gpus=4, plot=False)\n",
    "end = time.time()\n",
    "log.info('Total %.2fs', end - begin)\n",
    "\n",
    "\n",
    "save_exp(res_BEERM_topology, configs, name, p=p, x_0=x_0, W_er_1=W_er_1, W_er_2=W_er_2)"
   ]
  },
  {
   "cell_type": "code",
   "execution_count": null,
   "metadata": {},
   "outputs": [],
   "source": [
    "_ = plot_exp(res_BEERM_topology, name, plot_norm=True, figsize=(16, 4))"
   ]
  },
  {
   "cell_type": "markdown",
   "metadata": {},
   "source": [
    "# 1-hidden-layer NN on MNIST"
   ]
  },
  {
   "cell_type": "code",
   "execution_count": null,
   "metadata": {
    "tags": []
   },
   "outputs": [],
   "source": [
    "np.random.seed(0)"
   ]
  },
  {
   "cell_type": "code",
   "execution_count": null,
   "metadata": {},
   "outputs": [],
   "source": [
    "experiment = 'nn'\n",
    "graph_type = 'cycle'\n",
    "n_agent = 10\n",
    "\n",
    "p = NN(n_agent=n_agent, graph_type=graph_type, n_hidden=32, sort=True)\n",
    "m = p.m\n",
    "dim = p.dim\n",
    "\n",
    "x_0 = np.random.randn(dim, n_agent) / 10\n",
    "\n",
    "W, alpha = generate_mixing_matrix(p)\n",
    "\n",
    "log.info('alpha = ' + str(alpha))\n",
    "x_0_mean = x_0.mean(axis=1)"
   ]
  },
  {
   "cell_type": "code",
   "execution_count": null,
   "metadata": {},
   "outputs": [],
   "source": [
    "name = 'mnist_unshuffled_MoTEF_BEER_CHOCO_SGD_32_hidden'"
   ]
  },
  {
   "cell_type": "code",
   "execution_count": null,
   "metadata": {
    "tags": []
   },
   "outputs": [],
   "source": [
    "n_iters = 2000\n",
    "batch_size = 100\n",
    "eta = 0.1\n",
    "\n",
    "extra_metrics = ['test_accuracy', 'grad_norm']\n",
    "\n",
    "MoTEF_configs = [\n",
    "        {'eta': eta, 'compressor_param': 20, 'gamma': 6e-1, 'lmbd':0.005, 'compressor_type': 'gsgd', 'extra_metrics': extra_metrics},\n",
    "]\n",
    "\n",
    "BEER_configs = [\n",
    "        {'eta': eta, 'compressor_param': 20, 'gamma': 6e-1, 'compressor_type': 'gsgd', 'extra_metrics': extra_metrics},\n",
    "]\n",
    "\n",
    "CHOCO_SGD_configs = [\n",
    "        {'eta': eta, 'compressor_param': 20, 'gamma': 6e-1, 'compressor_type': 'gsgd', 'extra_metrics': extra_metrics},\n",
    "]\n",
    "\n",
    "for _ in CHOCO_SGD_configs + BEER_configs + MoTEF_configs:\n",
    "    _['extra_metrics'] = extra_metrics\n",
    "\n",
    "baseline_exps = [\n",
    "        DSGD(p, eta=eta, n_iters=n_iters, batch_size=batch_size, x_0=x_0, W=W, early_stopping=False, extra_metrics=extra_metrics),\n",
    "        D2(p, eta=eta, n_iters=n_iters, batch_size=batch_size, x_0=x_0, W=W, early_stopping=False, extra_metrics=extra_metrics),\n",
    "    ]\n",
    "\n",
    "\n",
    "configs = MoTEF_configs + BEER_configs + CHOCO_SGD_configs + len(baseline_exps) * [{}]\n",
    "exps = [MoTEF(p, n_iters=n_iters, batch_size=batch_size, x_0=x_0, W=W, early_stopping=False, **config) for config in MoTEF_configs] \\\n",
    "        + [BEER(p, n_iters=n_iters, batch_size=batch_size, x_0=x_0, W=W, early_stopping=False, **config) for config in BEER_configs] \\\n",
    "        + [CHOCO_SGD(p, n_iters=int(n_iters * 2), batch_size=batch_size, x_0=x_0, W=W, early_stopping=False, **config) for config in CHOCO_SGD_configs] \\\n",
    "        + baseline_exps\n",
    "\n",
    "\n",
    "begin = time.time()\n",
    "res = run_exp(exps, max_iter=n_iters, name=name, n_gpus=4, plot=False, save=True)\n",
    "end = time.time()\n",
    "log.info('Total %.2fs', end - begin)\n",
    "\n",
    "save_exp(res, configs, name, p=p, x_0=x_0, W=W)"
   ]
  },
  {
   "cell_type": "code",
   "execution_count": null,
   "metadata": {
    "tags": []
   },
   "outputs": [],
   "source": [
    "_ = plot_exp(res, name, plot_norm=True, figsize=(16, 4), dpi=200)"
   ]
  },
  {
   "cell_type": "code",
   "execution_count": null,
   "metadata": {},
   "outputs": [],
   "source": []
  }
 ],
 "metadata": {
  "kernelspec": {
   "display_name": "Python 3 (ipykernel)",
   "language": "python",
   "name": "python3"
  },
  "language_info": {
   "codemirror_mode": {
    "name": "ipython",
    "version": 3
   },
   "file_extension": ".py",
   "mimetype": "text/x-python",
   "name": "python",
   "nbconvert_exporter": "python",
   "pygments_lexer": "ipython3",
   "version": "3.10.12"
  },
  "toc-autonumbering": true,
  "toc-showmarkdowntxt": false,
  "toc-showtags": false
 },
 "nbformat": 4,
 "nbformat_minor": 4
}
